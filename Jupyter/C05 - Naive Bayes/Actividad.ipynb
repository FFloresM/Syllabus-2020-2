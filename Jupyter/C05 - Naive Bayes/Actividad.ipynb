{
 "cells": [
  {
   "cell_type": "markdown",
   "metadata": {},
   "source": [
    "# Actividad\n",
    "\n",
    "En esta actividad vas a trabajar con el clasificador que está en el _notebook_ junto a esta actividad. Aquí debes usar esta clase para crear un clasificador de _spam_. En concreto se te pide lo siguiente:\n",
    "\n",
    "1. **(2.5 pts)** Crea un clasificador Naive Bayes que se entrene con los asuntos (_Subject_) del _dataset_ de correos que te presentamos. Separa el _dataset_ de tres formas: (1) 0.5 de entrenamiento y prueba; (2) 0.7 de entrenamiento y 0.3 de prueba; (3) 0.3 de entrenamiento y 0.7 de prueba. ¿Cómo se comporta el clasificador en cada uno de estos escenarios? ¿Qué puedes concluir respecto al _ratio_ entrenamiento / prueba? Para cada uno de los casos presenta la matriz de confusión.\n",
    "\n",
    "2. **(2.5 pts)** En esta parte tienes que experimentar con la precisión y el _recall_, para esto:\n",
    "  - **(1 pto)** Identifica cuál es el threshold en este caso. ¿Cómo puedes hacer un modelo más preciso? ¿Cómo puedes hacer un modelo con más _recall_? Discute cómo cambiarías el código para lograr ambas cosas.\n",
    "  - **(1.5 pts)** Prueba la precisión y el _recall_ para distintos valores del threshold y discute los resultados. Grafica la curva de precisión y _recall_ vs el threshold.\n",
    "  \n",
    "3. **(1 pto)** Supón que ahora en vez de clasificar _spam_ y _no spam_ quieres hacer un modelo que lo clasifique para distintas etiquetas. Por ejemplo, imagina que tienes una etiqueta para cada uno de tus cursos, y quieres clasificar los correos a algunas de esas etiquetas. ¿Cómo puedes extender el modelo para que sea multiclase? No es necesario mostrar código, solamente que lo expliques con tus propias palabras.\n",
    "\n",
    "4. **(0.5 pts) \\[BONUS\\]** Grafica la curva ROC del modelo para tu set de prueba. Discute los resultados.\n",
    "\n",
    "## Detalles académicos\n",
    "\n",
    "Este control pueden realizarlo en grupos de hasta dos personas. La entrega de este control debe ser un archivo comprimido donde se encuentre un **Jupyter Notebook**, junto a cualquier archivo .csv que estés llamando desde tu código. **La fecha de entrega es hasta jueves 17 de septiembre, hasta las 20:00 pm, cualquier entrega después de este plazo será calificada con la nota mínima**. La nota se calcula como el número de puntos + un punto base. El archivo comprimido se entrega en un cuestionario de Webcursos."
   ]
  },
  {
   "cell_type": "code",
   "execution_count": null,
   "metadata": {},
   "outputs": [],
   "source": []
  }
 ],
 "metadata": {
  "kernelspec": {
   "display_name": "Python 3",
   "language": "python",
   "name": "python3"
  },
  "language_info": {
   "codemirror_mode": {
    "name": "ipython",
    "version": 3
   },
   "file_extension": ".py",
   "mimetype": "text/x-python",
   "name": "python",
   "nbconvert_exporter": "python",
   "pygments_lexer": "ipython3",
   "version": "3.8.5"
  }
 },
 "nbformat": 4,
 "nbformat_minor": 4
}
