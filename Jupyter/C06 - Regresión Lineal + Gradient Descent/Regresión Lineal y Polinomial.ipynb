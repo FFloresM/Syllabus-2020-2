{
 "cells": [
  {
   "cell_type": "markdown",
   "metadata": {},
   "source": [
    "# Regresión Lineal y Polinomial\n",
    "\n",
    "En este Notebook vamos a aprender cómo hacer una regresión lineal con Scikit Learn y después vamos a ver cómo entrenar nuestro propio modelo de regresión lineal con el algoritmo _Gradient Descent_.\n",
    "\n",
    "## Regresión Lineal Simple\n",
    "\n",
    "Para hacer una regresión lineal en Scikit Learn hacemos lo siguiente."
   ]
  },
  {
   "cell_type": "code",
   "execution_count": 21,
   "metadata": {},
   "outputs": [
    {
     "data": {
      "application/vnd.jupyter.widget-view+json": {
       "model_id": "7a6581de5e3c4340a5890af96de239e3",
       "version_major": 2,
       "version_minor": 0
      },
      "text/plain": [
       "Canvas(toolbar=Toolbar(toolitems=[('Home', 'Reset original view', 'home', 'home'), ('Back', 'Back to previous …"
      ]
     },
     "metadata": {},
     "output_type": "display_data"
    },
    {
     "data": {
      "text/plain": [
       "<matplotlib.collections.PathCollection at 0x11ed731f0>"
      ]
     },
     "execution_count": 21,
     "metadata": {},
     "output_type": "execute_result"
    }
   ],
   "source": [
    "%matplotlib widget\n",
    "\n",
    "import numpy as np\n",
    "import matplotlib.pyplot as plt\n",
    "\n",
    "\n",
    "# Creamos datos que se ven lineales\n",
    "\n",
    "X = 2 * np.random.rand(100, 1)\n",
    "y = 4 + 3*X + np.random.randn(100, 1)\n",
    "\n",
    "plt.scatter(X, y)"
   ]
  },
  {
   "cell_type": "code",
   "execution_count": 22,
   "metadata": {},
   "outputs": [
    {
     "data": {
      "text/plain": [
       "(array([4.0168606]), array([[3.05005443]]))"
      ]
     },
     "execution_count": 22,
     "metadata": {},
     "output_type": "execute_result"
    }
   ],
   "source": [
    "from sklearn.linear_model import LinearRegression\n",
    "\n",
    "# Hacemos la regresión lineal\n",
    "\n",
    "lin_reg = LinearRegression()\n",
    "\n",
    "lin_reg.fit(X, y)\n",
    "\n",
    "# Imprimimos n y m\n",
    "lin_reg.intercept_, lin_reg.coef_"
   ]
  },
  {
   "cell_type": "code",
   "execution_count": 23,
   "metadata": {},
   "outputs": [
    {
     "data": {
      "text/plain": [
       "array([[19.26713274]])"
      ]
     },
     "execution_count": 23,
     "metadata": {},
     "output_type": "execute_result"
    }
   ],
   "source": [
    "# Hacemos una predicción\n",
    "\n",
    "lin_reg.predict([[5]])"
   ]
  },
  {
   "cell_type": "markdown",
   "metadata": {},
   "source": [
    "## Regresión Lineal Multivariable\n",
    "\n",
    "Para hacer una regresión multivariable seguimos la misma estructura de Scikit Learn que hemos usado hasta ahora."
   ]
  },
  {
   "cell_type": "code",
   "execution_count": 24,
   "metadata": {},
   "outputs": [
    {
     "data": {
      "application/vnd.jupyter.widget-view+json": {
       "model_id": "02830af2eb584bb78d6f5fc03937f2ec",
       "version_major": 2,
       "version_minor": 0
      },
      "text/plain": [
       "Canvas(toolbar=Toolbar(toolitems=[('Home', 'Reset original view', 'home', 'home'), ('Back', 'Back to previous …"
      ]
     },
     "metadata": {},
     "output_type": "display_data"
    },
    {
     "data": {
      "text/plain": [
       "<mpl_toolkits.mplot3d.art3d.Path3DCollection at 0x11eaacc40>"
      ]
     },
     "execution_count": 24,
     "metadata": {},
     "output_type": "execute_result"
    }
   ],
   "source": [
    "%matplotlib widget\n",
    "\n",
    "from mpl_toolkits.mplot3d import Axes3D\n",
    "\n",
    "X = 2 * np.random.rand(100, 2)\n",
    "y = 3 * X[:,[True, False]] + 4 * X[:,[False, True]] + np.random.randn(100, 1)\n",
    "\n",
    "fig = plt.figure()\n",
    "ax = fig.add_subplot(111, projection='3d')\n",
    "ax.scatter(X[:,[True, False]], X[:,[False, True]], y,  zdir='z')"
   ]
  },
  {
   "cell_type": "code",
   "execution_count": 25,
   "metadata": {},
   "outputs": [
    {
     "data": {
      "text/plain": [
       "(array([0.14796548]), array([[2.64354684, 4.17852207]]))"
      ]
     },
     "execution_count": 25,
     "metadata": {},
     "output_type": "execute_result"
    }
   ],
   "source": [
    "lin_reg.fit(X, y)\n",
    "\n",
    "lin_reg.intercept_, lin_reg.coef_"
   ]
  },
  {
   "cell_type": "code",
   "execution_count": 26,
   "metadata": {},
   "outputs": [
    {
     "data": {
      "text/plain": [
       "array([[34.25831004]])"
      ]
     },
     "execution_count": 26,
     "metadata": {},
     "output_type": "execute_result"
    }
   ],
   "source": [
    "# Hacer una predicción\n",
    "\n",
    "lin_reg.predict([[5, 5]])"
   ]
  },
  {
   "cell_type": "markdown",
   "metadata": {},
   "source": [
    "## Regresión Polinomial\n",
    "\n",
    "Cuando tenemos puntos en el plano, podemos hacer _fit_ de un polinomio por los puntos en el plano usando el mismo algoritmo de regresión multivariable. Supón que tienes los puntos:\n",
    "\n",
    "$$\n",
    "[(x_1, y_1), (x_2, y_2), \\dots, (x_n, y_n)]\n",
    "$$\n",
    "\n",
    "Si queremos una regresión con un polinomio de grado $k$ sobre estos datos, tenemos que agregar potencias de cada _feature_ hasta $k$ y después hacer _fit_ sobre eso:\n",
    "\n",
    "| $f_0$ | $f_1$ | $f_2$ | $\\dots$ | $f_k$ |\n",
    "|---|---|---|---|---|\n",
    "| $1$ | $x_1$ | $x_1^2$ | $\\dots$ | $x_1^k$ |\n",
    "| $1$ | $x_2$ | $x_2^2$ | $\\dots$ | $x_2^k$ |\n",
    "| $1$ | $\\dots$ | $\\dots$ | $\\dots$ | $\\dots$ |\n",
    "| $1$ | $x_n$ | $x_n^2$ | $\\dots$ | $x_n^k$ |\n",
    "\n",
    "Obtener estas _features_ extendidas es fácil con Scikit Learn."
   ]
  },
  {
   "cell_type": "code",
   "execution_count": 27,
   "metadata": {},
   "outputs": [
    {
     "data": {
      "application/vnd.jupyter.widget-view+json": {
       "model_id": "cb8f08c6b56540db98701df7aac0d5d5",
       "version_major": 2,
       "version_minor": 0
      },
      "text/plain": [
       "Canvas(toolbar=Toolbar(toolitems=[('Home', 'Reset original view', 'home', 'home'), ('Back', 'Back to previous …"
      ]
     },
     "metadata": {},
     "output_type": "display_data"
    },
    {
     "data": {
      "text/plain": [
       "<matplotlib.collections.PathCollection at 0x11eb76790>"
      ]
     },
     "execution_count": 27,
     "metadata": {},
     "output_type": "execute_result"
    }
   ],
   "source": [
    "%matplotlib widget\n",
    "\n",
    "# Primero creamos datos que se ven cuadráticos\n",
    "\n",
    "X = 7 * np.random.rand(100, 1) - 4\n",
    "y = 0.5 * X**2 + X + 10 + np.random.randn(100, 1)\n",
    "\n",
    "plt.scatter(X, y)"
   ]
  },
  {
   "cell_type": "code",
   "execution_count": 28,
   "metadata": {},
   "outputs": [
    {
     "data": {
      "text/plain": [
       "array([[-2.96267896e+00,  8.77746664e+00],\n",
       "       [-2.26065755e+00,  5.11057254e+00],\n",
       "       [ 1.76834750e+00,  3.12705288e+00],\n",
       "       [-1.21169749e+00,  1.46821080e+00],\n",
       "       [ 7.65861477e-01,  5.86543802e-01],\n",
       "       [ 1.86845800e+00,  3.49113529e+00],\n",
       "       [ 1.81231801e+00,  3.28449656e+00],\n",
       "       [ 2.68639556e+00,  7.21672108e+00],\n",
       "       [-3.20491683e+00,  1.02714919e+01],\n",
       "       [-2.25669630e-01,  5.09267818e-02],\n",
       "       [ 7.69410181e-02,  5.91992026e-03],\n",
       "       [-3.86001659e+00,  1.48997281e+01],\n",
       "       [-3.41395908e-01,  1.16551166e-01],\n",
       "       [ 6.07965921e-01,  3.69622561e-01],\n",
       "       [-2.88713853e+00,  8.33556891e+00],\n",
       "       [-2.64461210e+00,  6.99397317e+00],\n",
       "       [-9.84852510e-01,  9.69934467e-01],\n",
       "       [-1.62292859e+00,  2.63389722e+00],\n",
       "       [ 7.03665175e-01,  4.95144678e-01],\n",
       "       [ 1.70662717e+00,  2.91257629e+00],\n",
       "       [-3.33510833e+00,  1.11229476e+01],\n",
       "       [-1.79595137e+00,  3.22544134e+00],\n",
       "       [-5.73956535e-01,  3.29426104e-01],\n",
       "       [-2.92473708e+00,  8.55408700e+00],\n",
       "       [-3.28711750e+00,  1.08051415e+01],\n",
       "       [ 1.71366126e+00,  2.93663493e+00],\n",
       "       [ 1.67089001e+00,  2.79187341e+00],\n",
       "       [ 2.68869351e+00,  7.22907277e+00],\n",
       "       [-1.35864873e+00,  1.84592636e+00],\n",
       "       [-3.52290892e+00,  1.24108873e+01],\n",
       "       [-3.11519445e+00,  9.70443645e+00],\n",
       "       [-3.82193217e+00,  1.46071655e+01],\n",
       "       [-3.84342786e+00,  1.47719377e+01],\n",
       "       [ 1.88792697e+00,  3.56426825e+00],\n",
       "       [-2.33570105e+00,  5.45549941e+00],\n",
       "       [-1.36324165e+00,  1.85842778e+00],\n",
       "       [ 2.13179617e+00,  4.54455490e+00],\n",
       "       [-1.84083745e+00,  3.38868251e+00],\n",
       "       [ 7.33064314e-01,  5.37383289e-01],\n",
       "       [ 1.88312395e+00,  3.54615582e+00],\n",
       "       [-1.78142855e+00,  3.17348767e+00],\n",
       "       [ 2.80317541e+00,  7.85779240e+00],\n",
       "       [-3.26850036e+00,  1.06830946e+01],\n",
       "       [-3.54519982e+00,  1.25684418e+01],\n",
       "       [-5.82838517e-01,  3.39700737e-01],\n",
       "       [-2.40599805e+00,  5.78882664e+00],\n",
       "       [ 2.28227292e+00,  5.20876968e+00],\n",
       "       [-3.38469238e+00,  1.14561425e+01],\n",
       "       [-2.24199739e+00,  5.02655231e+00],\n",
       "       [ 2.48143064e+00,  6.15749803e+00],\n",
       "       [-1.95968562e+00,  3.84036772e+00],\n",
       "       [ 2.54535736e+00,  6.47884411e+00],\n",
       "       [-3.84959827e+00,  1.48194069e+01],\n",
       "       [ 1.00466657e+00,  1.00935491e+00],\n",
       "       [-6.51356681e-01,  4.24265525e-01],\n",
       "       [ 1.91565649e+00,  3.66973977e+00],\n",
       "       [ 4.51909646e-01,  2.04222328e-01],\n",
       "       [ 2.79182281e+00,  7.79427461e+00],\n",
       "       [ 1.98903093e+00,  3.95624406e+00],\n",
       "       [-2.18572488e+00,  4.77739326e+00],\n",
       "       [-8.95509985e-01,  8.01938133e-01],\n",
       "       [-3.35270186e+00,  1.12406097e+01],\n",
       "       [ 1.63514304e+00,  2.67369277e+00],\n",
       "       [ 1.46111010e+00,  2.13484274e+00],\n",
       "       [ 7.32695799e-01,  5.36843134e-01],\n",
       "       [-5.26066780e-01,  2.76746257e-01],\n",
       "       [-9.11359265e-01,  8.30575710e-01],\n",
       "       [ 2.41617303e+00,  5.83789209e+00],\n",
       "       [-3.77342370e+00,  1.42387264e+01],\n",
       "       [-5.98774602e-01,  3.58531024e-01],\n",
       "       [ 3.99650530e-01,  1.59720546e-01],\n",
       "       [ 4.26999662e-01,  1.82328711e-01],\n",
       "       [ 2.28684725e+00,  5.22967034e+00],\n",
       "       [ 2.05271987e+00,  4.21365884e+00],\n",
       "       [ 2.03374339e+00,  4.13611216e+00],\n",
       "       [-2.63006376e+00,  6.91723537e+00],\n",
       "       [-4.36098235e-01,  1.90181671e-01],\n",
       "       [ 2.12797057e+00,  4.52825877e+00],\n",
       "       [-3.13512399e+00,  9.82900244e+00],\n",
       "       [ 3.99804063e-01,  1.59843289e-01],\n",
       "       [-2.43048137e-01,  5.90723968e-02],\n",
       "       [-8.33736367e-01,  6.95116330e-01],\n",
       "       [ 2.67796129e+00,  7.17147668e+00],\n",
       "       [ 1.94059599e+00,  3.76591278e+00],\n",
       "       [ 4.04704165e-01,  1.63785461e-01],\n",
       "       [-3.56138877e+00,  1.26834900e+01],\n",
       "       [-3.72923754e+00,  1.39072126e+01],\n",
       "       [ 2.77407981e+00,  7.69551881e+00],\n",
       "       [-3.70036307e-01,  1.36926868e-01],\n",
       "       [ 2.48585418e+00,  6.17947098e+00],\n",
       "       [-9.83819427e-01,  9.67900665e-01],\n",
       "       [-1.67431989e+00,  2.80334708e+00],\n",
       "       [ 1.73862295e+00,  3.02280976e+00],\n",
       "       [-3.04613904e-01,  9.27896304e-02],\n",
       "       [-3.37632751e+00,  1.13995874e+01],\n",
       "       [ 1.34393026e+00,  1.80614855e+00],\n",
       "       [ 4.68968005e-01,  2.19930989e-01],\n",
       "       [ 2.20625866e+00,  4.86757726e+00],\n",
       "       [-3.66242290e+00,  1.34133415e+01],\n",
       "       [-1.27036226e+00,  1.61382027e+00]])"
      ]
     },
     "execution_count": 28,
     "metadata": {},
     "output_type": "execute_result"
    }
   ],
   "source": [
    "from sklearn.preprocessing import PolynomialFeatures\n",
    "\n",
    "# Si agregamos include_bias=True se crea una primera columna llena de 1s\n",
    "# Esto representa el coeficiente de posición\n",
    "# Pero el método fit de Linear Regression no lo necesita!\n",
    "poly_features = PolynomialFeatures(degree=2, include_bias=False)\n",
    "X_poly = poly_features.fit_transform(X)\n",
    "X_poly"
   ]
  },
  {
   "cell_type": "code",
   "execution_count": 29,
   "metadata": {},
   "outputs": [
    {
     "data": {
      "application/vnd.jupyter.widget-view+json": {
       "model_id": "0a392093a566488d9448ad3b446f7cf5",
       "version_major": 2,
       "version_minor": 0
      },
      "text/plain": [
       "Canvas(toolbar=Toolbar(toolitems=[('Home', 'Reset original view', 'home', 'home'), ('Back', 'Back to previous …"
      ]
     },
     "metadata": {},
     "output_type": "display_data"
    },
    {
     "data": {
      "text/plain": [
       "[<matplotlib.lines.Line2D at 0x11ee729d0>]"
      ]
     },
     "execution_count": 29,
     "metadata": {},
     "output_type": "execute_result"
    }
   ],
   "source": [
    "%matplotlib widget\n",
    "\n",
    "# Ahora hacemos la regresión y la graficaremos\n",
    "\n",
    "lin_reg = LinearRegression()\n",
    "lin_reg.fit(X_poly, y)\n",
    "\n",
    "plt.scatter(X, y)\n",
    "\n",
    "# Para graficar la curva debemos ordenar los elementos según X y la primera columna de X_poly\n",
    "# Recordemos además que predict recibe el x y x^2\n",
    "plt.plot(X[X[:,0].argsort()], lin_reg.predict(X_poly[X_poly[:,0].argsort()]), color='purple')"
   ]
  },
  {
   "cell_type": "markdown",
   "metadata": {},
   "source": [
    "Ahora, ¿por qué esto funciona? Esto es algo que tendrás que descubrir en el control."
   ]
  },
  {
   "cell_type": "code",
   "execution_count": null,
   "metadata": {},
   "outputs": [],
   "source": []
  }
 ],
 "metadata": {
  "kernelspec": {
   "display_name": "Python 3",
   "language": "python",
   "name": "python3"
  },
  "language_info": {
   "codemirror_mode": {
    "name": "ipython",
    "version": 3
   },
   "file_extension": ".py",
   "mimetype": "text/x-python",
   "name": "python",
   "nbconvert_exporter": "python",
   "pygments_lexer": "ipython3",
   "version": "3.8.5"
  }
 },
 "nbformat": 4,
 "nbformat_minor": 4
}
